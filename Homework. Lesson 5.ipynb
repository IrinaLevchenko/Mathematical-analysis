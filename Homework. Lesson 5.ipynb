{
 "cells": [
  {
   "cell_type": "markdown",
   "id": "eebb9fea",
   "metadata": {},
   "source": [
    "__9**.__ Написать на python алгоритм, по вычислению значений $\\sin(x)$ для $х \\in[0, 30^0]$\n",
    "\n",
    "Для проверки подойдут данные из таблицы Брадиса"
   ]
  },
  {
   "cell_type": "code",
   "execution_count": 35,
   "id": "735387c0",
   "metadata": {},
   "outputs": [
    {
     "name": "stdout",
     "output_type": "stream",
     "text": [
      "sin(0rad)= 0\n",
      "sin(1rad)= 0.0174524064372835\n",
      "sin(2rad)= 0.0348994967025010\n",
      "sin(3rad)= 0.0523359562429438\n",
      "sin(4rad)= 0.0697564737441253\n",
      "sin(5rad)= 0.0871557427476582\n",
      "sin(6rad)= 0.104528463267653\n",
      "sin(7rad)= 0.121869343405147\n",
      "sin(8rad)= 0.139173100960065\n",
      "sin(9rad)= 0.156434465040231\n",
      "sin(10rad)= 0.173648177666930\n",
      "sin(11rad)= 0.190808995376545\n",
      "sin(12rad)= 0.207911690817759\n",
      "sin(13rad)= 0.224951054343865\n",
      "sin(14rad)= 0.241921895599668\n",
      "sin(15rad)= 0.258819045102521\n",
      "sin(16rad)= 0.275637355816999\n",
      "sin(17rad)= 0.292371704722737\n",
      "sin(18rad)= 0.309016994374947\n",
      "sin(19rad)= 0.325568154457157\n",
      "sin(20rad)= 0.342020143325669\n",
      "sin(21rad)= 0.358367949545300\n",
      "sin(22rad)= 0.374606593415912\n",
      "sin(23rad)= 0.390731128489274\n",
      "sin(24rad)= 0.406736643075800\n",
      "sin(25rad)= 0.422618261740699\n",
      "sin(26rad)= 0.438371146789077\n",
      "sin(27rad)= 0.453990499739547\n",
      "sin(28rad)= 0.469471562785891\n",
      "sin(29rad)= 0.484809620246337\n",
      "sin(30rad)= 0.500000000000000\n"
     ]
    }
   ],
   "source": [
    "import math\n",
    " \n",
    "for x in range(0, 31): \n",
    "    print(f'sin({x}rad)= {sin(math.radians(x))}')\n"
   ]
  }
 ],
 "metadata": {
  "kernelspec": {
   "display_name": "Python 3 (ipykernel)",
   "language": "python",
   "name": "python3"
  },
  "language_info": {
   "codemirror_mode": {
    "name": "ipython",
    "version": 3
   },
   "file_extension": ".py",
   "mimetype": "text/x-python",
   "name": "python",
   "nbconvert_exporter": "python",
   "pygments_lexer": "ipython3",
   "version": "3.9.7"
  }
 },
 "nbformat": 4,
 "nbformat_minor": 5
}
